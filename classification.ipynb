{
 "cells": [
  {
   "cell_type": "code",
   "execution_count": 9,
   "metadata": {},
   "outputs": [
    {
     "name": "stdout",
     "output_type": "stream",
     "text": [
      "Python version: 3.10.16 (main, Dec 11 2024, 16:24:50) [GCC 11.2.0]\n",
      "pandas version: 2.2.3\n"
     ]
    }
   ],
   "source": [
    "import sys\n",
    "print(\"Python version: {}\".format(sys.version))\n",
    "import pandas as pd\n",
    "print(\"pandas version: {}\".format(pd.__version__))\n",
    "import matplotlib"
   ]
  },
  {
   "cell_type": "code",
   "execution_count": 10,
   "metadata": {},
   "outputs": [
    {
     "name": "stdout",
     "output_type": "stream",
     "text": [
      "matplotlib version: 3.9.2\n"
     ]
    }
   ],
   "source": [
    "import matplotlib as plt\n",
    "# function to get_path_data\n",
    "def get_data_path():\n",
    "    return matplotlib.get_data_path()\n",
    "print(\"matplotlib version: {}\".format(matplotlib.__version__))"
   ]
  },
  {
   "cell_type": "code",
   "execution_count": 11,
   "metadata": {},
   "outputs": [],
   "source": [
    "# function to read iris dataset from sklearn\n",
    "from sklearn.datasets import load_iris"
   ]
  },
  {
   "cell_type": "code",
   "execution_count": 12,
   "metadata": {},
   "outputs": [],
   "source": [
    "# function to load iris dataset\n",
    "def load_iris_data():\n",
    "    iris = load_iris()\n",
    "    return iris\n"
   ]
  },
  {
   "cell_type": "code",
   "execution_count": 15,
   "metadata": {},
   "outputs": [
    {
     "name": "stdout",
     "output_type": "stream",
     "text": [
      "Iris feature names: ['sepal length (cm)', 'sepal width (cm)', 'petal length (cm)', 'petal width (cm)']\n",
      "\n",
      "Iris feature names: ['sepal length', 'sepal width', 'petal length', 'petal width']\n",
      "Iris feature names: ['sepal_length', 'sepal_width', 'petal_length', 'petal_width']\n"
     ]
    }
   ],
   "source": [
    "iris_data = load_iris_data()\n",
    "\n",
    "\n",
    "# # print column names\n",
    "# print(\"Iris feature names: {}\".format(iris_data.feature_names))\n",
    "# # create a space between the two prints\n",
    "# print()\n",
    "# # print(\"Iris data: {}\".format(iris_data))\n",
    "# # rename the columns removin (cm) from the names\n",
    "# iris_data.feature_names = [name[:-5] for name in iris_data.feature_names]\n",
    "\n",
    "# print(\"Iris feature names: {}\".format(iris_data.feature_names))\n",
    "# #rename the columns in the iris dataset using a _ instead of a space\n",
    "# iris_data.feature_names = [name.replace(' ', '_') for name in iris_data.feature_names]\n",
    "# print(\"Iris feature names: {}\".format(iris_data.feature_names))\n"
   ]
  }
 ],
 "metadata": {
  "kernelspec": {
   "display_name": "ml_env",
   "language": "python",
   "name": "python3"
  },
  "language_info": {
   "codemirror_mode": {
    "name": "ipython",
    "version": 3
   },
   "file_extension": ".py",
   "mimetype": "text/x-python",
   "name": "python",
   "nbconvert_exporter": "python",
   "pygments_lexer": "ipython3",
   "version": "3.10.16"
  }
 },
 "nbformat": 4,
 "nbformat_minor": 2
}
