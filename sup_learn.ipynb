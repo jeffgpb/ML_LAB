{
 "cells": [
  {
   "cell_type": "code",
   "execution_count": 1,
   "metadata": {},
   "outputs": [],
   "source": [
    "# Import necessary libraries\n",
    "import pandas as pd\n",
    "from sklearn.model_selection import train_test_split\n",
    "from sklearn.linear_model import LinearRegression\n",
    "from sklearn.metrics import mean_squared_error"
   ]
  },
  {
   "cell_type": "code",
   "execution_count": 2,
   "metadata": {},
   "outputs": [],
   "source": [
    "# function to laod a dataset    \n",
    "def load_data(data_path):\n",
    "    return pd.read_csv(data_path)"
   ]
  },
  {
   "cell_type": "code",
   "execution_count": 3,
   "metadata": {},
   "outputs": [],
   "source": [
    "data_path = '/home/jeffs/mach_learn/USA_Housing_Dataset.csv'\n",
    "df_1 = load_data(data_path)\n"
   ]
  },
  {
   "cell_type": "code",
   "execution_count": 4,
   "metadata": {},
   "outputs": [
    {
     "data": {
      "text/html": [
       "<div>\n",
       "<style scoped>\n",
       "    .dataframe tbody tr th:only-of-type {\n",
       "        vertical-align: middle;\n",
       "    }\n",
       "\n",
       "    .dataframe tbody tr th {\n",
       "        vertical-align: top;\n",
       "    }\n",
       "\n",
       "    .dataframe thead th {\n",
       "        text-align: right;\n",
       "    }\n",
       "</style>\n",
       "<table border=\"1\" class=\"dataframe\">\n",
       "  <thead>\n",
       "    <tr style=\"text-align: right;\">\n",
       "      <th></th>\n",
       "      <th>date</th>\n",
       "      <th>price</th>\n",
       "      <th>bedrooms</th>\n",
       "      <th>bathrooms</th>\n",
       "      <th>sqft_living</th>\n",
       "      <th>sqft_lot</th>\n",
       "      <th>floors</th>\n",
       "      <th>waterfront</th>\n",
       "      <th>view</th>\n",
       "      <th>condition</th>\n",
       "      <th>sqft_above</th>\n",
       "      <th>sqft_basement</th>\n",
       "      <th>yr_built</th>\n",
       "      <th>yr_renovated</th>\n",
       "      <th>street</th>\n",
       "      <th>city</th>\n",
       "      <th>statezip</th>\n",
       "      <th>country</th>\n",
       "    </tr>\n",
       "  </thead>\n",
       "  <tbody>\n",
       "    <tr>\n",
       "      <th>0</th>\n",
       "      <td>2014-05-09 00:00:00</td>\n",
       "      <td>376000.0</td>\n",
       "      <td>3.0</td>\n",
       "      <td>2.00</td>\n",
       "      <td>1340</td>\n",
       "      <td>1384</td>\n",
       "      <td>3.0</td>\n",
       "      <td>0</td>\n",
       "      <td>0</td>\n",
       "      <td>3</td>\n",
       "      <td>1340</td>\n",
       "      <td>0</td>\n",
       "      <td>2008</td>\n",
       "      <td>0</td>\n",
       "      <td>9245-9249 Fremont Ave N</td>\n",
       "      <td>Seattle</td>\n",
       "      <td>WA 98103</td>\n",
       "      <td>USA</td>\n",
       "    </tr>\n",
       "    <tr>\n",
       "      <th>1</th>\n",
       "      <td>2014-05-09 00:00:00</td>\n",
       "      <td>800000.0</td>\n",
       "      <td>4.0</td>\n",
       "      <td>3.25</td>\n",
       "      <td>3540</td>\n",
       "      <td>159430</td>\n",
       "      <td>2.0</td>\n",
       "      <td>0</td>\n",
       "      <td>0</td>\n",
       "      <td>3</td>\n",
       "      <td>3540</td>\n",
       "      <td>0</td>\n",
       "      <td>2007</td>\n",
       "      <td>0</td>\n",
       "      <td>33001 NE 24th St</td>\n",
       "      <td>Carnation</td>\n",
       "      <td>WA 98014</td>\n",
       "      <td>USA</td>\n",
       "    </tr>\n",
       "    <tr>\n",
       "      <th>2</th>\n",
       "      <td>2014-05-09 00:00:00</td>\n",
       "      <td>2238888.0</td>\n",
       "      <td>5.0</td>\n",
       "      <td>6.50</td>\n",
       "      <td>7270</td>\n",
       "      <td>130017</td>\n",
       "      <td>2.0</td>\n",
       "      <td>0</td>\n",
       "      <td>0</td>\n",
       "      <td>3</td>\n",
       "      <td>6420</td>\n",
       "      <td>850</td>\n",
       "      <td>2010</td>\n",
       "      <td>0</td>\n",
       "      <td>7070 270th Pl SE</td>\n",
       "      <td>Issaquah</td>\n",
       "      <td>WA 98029</td>\n",
       "      <td>USA</td>\n",
       "    </tr>\n",
       "    <tr>\n",
       "      <th>3</th>\n",
       "      <td>2014-05-09 00:00:00</td>\n",
       "      <td>324000.0</td>\n",
       "      <td>3.0</td>\n",
       "      <td>2.25</td>\n",
       "      <td>998</td>\n",
       "      <td>904</td>\n",
       "      <td>2.0</td>\n",
       "      <td>0</td>\n",
       "      <td>0</td>\n",
       "      <td>3</td>\n",
       "      <td>798</td>\n",
       "      <td>200</td>\n",
       "      <td>2007</td>\n",
       "      <td>0</td>\n",
       "      <td>820 NW 95th St</td>\n",
       "      <td>Seattle</td>\n",
       "      <td>WA 98117</td>\n",
       "      <td>USA</td>\n",
       "    </tr>\n",
       "    <tr>\n",
       "      <th>4</th>\n",
       "      <td>2014-05-10 00:00:00</td>\n",
       "      <td>549900.0</td>\n",
       "      <td>5.0</td>\n",
       "      <td>2.75</td>\n",
       "      <td>3060</td>\n",
       "      <td>7015</td>\n",
       "      <td>1.0</td>\n",
       "      <td>0</td>\n",
       "      <td>0</td>\n",
       "      <td>5</td>\n",
       "      <td>1600</td>\n",
       "      <td>1460</td>\n",
       "      <td>1979</td>\n",
       "      <td>0</td>\n",
       "      <td>10834 31st Ave SW</td>\n",
       "      <td>Seattle</td>\n",
       "      <td>WA 98146</td>\n",
       "      <td>USA</td>\n",
       "    </tr>\n",
       "  </tbody>\n",
       "</table>\n",
       "</div>"
      ],
      "text/plain": [
       "                  date      price  bedrooms  bathrooms  sqft_living  sqft_lot  \\\n",
       "0  2014-05-09 00:00:00   376000.0       3.0       2.00         1340      1384   \n",
       "1  2014-05-09 00:00:00   800000.0       4.0       3.25         3540    159430   \n",
       "2  2014-05-09 00:00:00  2238888.0       5.0       6.50         7270    130017   \n",
       "3  2014-05-09 00:00:00   324000.0       3.0       2.25          998       904   \n",
       "4  2014-05-10 00:00:00   549900.0       5.0       2.75         3060      7015   \n",
       "\n",
       "   floors  waterfront  view  condition  sqft_above  sqft_basement  yr_built  \\\n",
       "0     3.0           0     0          3        1340              0      2008   \n",
       "1     2.0           0     0          3        3540              0      2007   \n",
       "2     2.0           0     0          3        6420            850      2010   \n",
       "3     2.0           0     0          3         798            200      2007   \n",
       "4     1.0           0     0          5        1600           1460      1979   \n",
       "\n",
       "   yr_renovated                   street       city  statezip country  \n",
       "0             0  9245-9249 Fremont Ave N    Seattle  WA 98103     USA  \n",
       "1             0         33001 NE 24th St  Carnation  WA 98014     USA  \n",
       "2             0         7070 270th Pl SE   Issaquah  WA 98029     USA  \n",
       "3             0           820 NW 95th St    Seattle  WA 98117     USA  \n",
       "4             0        10834 31st Ave SW    Seattle  WA 98146     USA  "
      ]
     },
     "execution_count": 4,
     "metadata": {},
     "output_type": "execute_result"
    }
   ],
   "source": [
    "df_1.head()"
   ]
  },
  {
   "cell_type": "code",
   "execution_count": 5,
   "metadata": {},
   "outputs": [
    {
     "data": {
      "text/plain": [
       "Index(['date', 'price', 'bedrooms', 'bathrooms', 'sqft_living', 'sqft_lot',\n",
       "       'floors', 'waterfront', 'view', 'condition', 'sqft_above',\n",
       "       'sqft_basement', 'yr_built', 'yr_renovated', 'street', 'city',\n",
       "       'statezip', 'country'],\n",
       "      dtype='object')"
      ]
     },
     "execution_count": 5,
     "metadata": {},
     "output_type": "execute_result"
    }
   ],
   "source": [
    "df_1.columns"
   ]
  },
  {
   "cell_type": "code",
   "execution_count": 7,
   "metadata": {},
   "outputs": [],
   "source": [
    "#function to split the data into training and testing sets\n",
    "def split_data(data):\n",
    "    X = data[['bedrooms', 'bathrooms','condition','yr_built', 'yr_renovated']]\n",
    "    y = data['price']\n",
    "    X_train, X_test, y_train, y_test = train_test_split(X, y, test_size=0.2, random_state=42)\n",
    "    return X_train, X_test, y_train, y_test"
   ]
  },
  {
   "cell_type": "code",
   "execution_count": 8,
   "metadata": {},
   "outputs": [],
   "source": [
    "X_train, X_test, y_train, y_test = split_data(df_1)"
   ]
  },
  {
   "cell_type": "code",
   "execution_count": 9,
   "metadata": {},
   "outputs": [
    {
     "name": "stdout",
     "output_type": "stream",
     "text": [
      "      bedrooms  bathrooms  condition  yr_built  yr_renovated\n",
      "3949       4.0       1.00          3      1945          2010\n",
      "3930       3.0       2.00          4      1977             0\n",
      "178        2.0       1.00          5      1952          1998\n",
      "668        3.0       2.50          3      1992             0\n",
      "3330       4.0       2.75          4      1962             0\n",
      "...        ...        ...        ...       ...           ...\n",
      "3444       3.0       2.50          5      1945             0\n",
      "466        5.0       1.75          4      1966             0\n",
      "3092       3.0       1.75          3      1998          2006\n",
      "3772       4.0       2.50          4      1978          2000\n",
      "860        3.0       1.00          3      1972          2002\n",
      "\n",
      "[3312 rows x 5 columns]\n"
     ]
    }
   ],
   "source": [
    "print(X_train)"
   ]
  },
  {
   "cell_type": "code",
   "execution_count": 10,
   "metadata": {},
   "outputs": [
    {
     "name": "stdout",
     "output_type": "stream",
     "text": [
      "      bedrooms  bathrooms  condition  yr_built  yr_renovated\n",
      "3487       5.0       2.25          4      1975             0\n",
      "1964       2.0       1.00          4      1947          1988\n",
      "1582       3.0       2.50          3      2001             0\n",
      "296        3.0       2.00          3      1948          1994\n",
      "149        4.0       1.00          3      1925          2002\n",
      "...        ...        ...        ...       ...           ...\n",
      "838        2.0       2.50          3      2006             0\n",
      "2466       2.0       2.50          3      2006             0\n",
      "3837       2.0       1.00          5      1942             0\n",
      "2409       5.0       3.75          3      2014             0\n",
      "1545       4.0       5.25          3      1989             0\n",
      "\n",
      "[828 rows x 5 columns]\n"
     ]
    }
   ],
   "source": [
    "print(X_test)"
   ]
  },
  {
   "cell_type": "code",
   "execution_count": 13,
   "metadata": {},
   "outputs": [
    {
     "name": "stdout",
     "output_type": "stream",
     "text": [
      "3949      266,066.67\n",
      "3930      540,833.33\n",
      "178       155,000.00\n",
      "668     1,550,000.00\n",
      "3330      505,000.00\n",
      "            ...     \n",
      "3444      850,000.00\n",
      "466       462,000.00\n",
      "3092      235,000.00\n",
      "3772      270,000.00\n",
      "860       172,500.00\n",
      "Name: price, Length: 3312, dtype: object\n"
     ]
    }
   ],
   "source": [
    "# print(y_train)\n",
    "# print y_train with two decimal places and commas for thousands\n",
    "print(y_train.apply(lambda x: '{:,.2f}'.format(x)))\n",
    "                "
   ]
  },
  {
   "cell_type": "code",
   "execution_count": 14,
   "metadata": {},
   "outputs": [
    {
     "name": "stdout",
     "output_type": "stream",
     "text": [
      "3487      600,000.00\n",
      "1964      370,000.00\n",
      "1582      471,000.00\n",
      "296       240,000.00\n",
      "149       413,000.00\n",
      "            ...     \n",
      "838       375,000.00\n",
      "2466      754,800.00\n",
      "3837      279,000.00\n",
      "2409      540,500.00\n",
      "1545    1,415,000.00\n",
      "Name: price, Length: 828, dtype: object\n"
     ]
    }
   ],
   "source": [
    "# print y_test with two decimal places and commas for thousands\n",
    "print(y_test.apply(lambda x: '{:,.2f}'.format(x)))"
   ]
  },
  {
   "cell_type": "code",
   "execution_count": 15,
   "metadata": {},
   "outputs": [],
   "source": [
    "# train a linear regression model\n",
    "def train_model(X_train, y_train):\n",
    "    model = LinearRegression()\n",
    "    model.fit(X_train, y_train)\n",
    "    return model"
   ]
  },
  {
   "cell_type": "code",
   "execution_count": 16,
   "metadata": {},
   "outputs": [],
   "source": [
    "model = train_model(X_train, y_train)"
   ]
  },
  {
   "cell_type": "code",
   "execution_count": 17,
   "metadata": {},
   "outputs": [
    {
     "name": "stdout",
     "output_type": "stream",
     "text": [
      "LinearRegression()\n"
     ]
    }
   ],
   "source": [
    "print(model)"
   ]
  },
  {
   "cell_type": "code",
   "execution_count": 18,
   "metadata": {},
   "outputs": [],
   "source": [
    "# make predictions using the trained model\n",
    "def predict(model, X_test):\n",
    "    return model.predict(X_test)"
   ]
  },
  {
   "cell_type": "code",
   "execution_count": 19,
   "metadata": {},
   "outputs": [],
   "source": [
    "\n",
    "predictions = predict(model, X_test)"
   ]
  },
  {
   "cell_type": "code",
   "execution_count": 21,
   "metadata": {},
   "outputs": [
    {
     "name": "stdout",
     "output_type": "stream",
     "text": [
      "0        574,269.53\n",
      "1        288,406.78\n",
      "2        557,694.03\n",
      "3        569,419.35\n",
      "4        330,143.31\n",
      "           ...     \n",
      "823      543,093.67\n",
      "824      543,093.67\n",
      "825      301,571.00\n",
      "826      902,995.96\n",
      "827    1,422,765.82\n",
      "Length: 828, dtype: object\n"
     ]
    }
   ],
   "source": [
    "# print predictions with two decimal places and commas for thousands\n",
    "print(pd.Series(predictions).apply(lambda x: '{:,.2f}'.format(x)))"
   ]
  },
  {
   "cell_type": "code",
   "execution_count": 22,
   "metadata": {},
   "outputs": [],
   "source": [
    "# convert the ouput to a dataframe\n",
    "def predictions_to_df(predictions):\n",
    "    return pd.DataFrame(predictions)"
   ]
  },
  {
   "cell_type": "code",
   "execution_count": 39,
   "metadata": {},
   "outputs": [
    {
     "name": "stdout",
     "output_type": "stream",
     "text": [
      "0        574,269.53\n",
      "1        288,406.78\n",
      "2        557,694.03\n",
      "3        569,419.35\n",
      "4        330,143.31\n",
      "           ...     \n",
      "823      543,093.67\n",
      "824      543,093.67\n",
      "825      301,571.00\n",
      "826      902,995.96\n",
      "827    1,422,765.82\n",
      "Name: 0, Length: 828, dtype: object\n"
     ]
    }
   ],
   "source": [
    "df_predictions = predictions_to_df(predictions)\n",
    "\n",
    "df_predictions.head()\n",
    "# convert the number to a string with two decimal places and commas for thousands\n",
    "df_predictions = df_predictions[0].map(lambda x: '{:,.2f}'.format(x))\n",
    "print(df_predictions)\n",
    "\n"
   ]
  },
  {
   "cell_type": "code",
   "execution_count": 43,
   "metadata": {},
   "outputs": [
    {
     "name": "stdout",
     "output_type": "stream",
     "text": [
      "83297328002.39993\n"
     ]
    }
   ],
   "source": [
    "import numpy as np\n",
    "\n",
    "def round_predictions(predictions):\n",
    "    return np.round(predictions, 2)\n",
    "\n",
    "# Example usage\n",
    "pred_round = round_predictions(predictions)\n",
    "# print(pred_round)\n",
    "\n",
    "# calculate the mean squared error\n",
    "def calculate_mse(y_true, y_pred):\n",
    "    return mean_squared_error(y_true, y_pred)\n",
    "\n",
    "mse = calculate_mse(y_test, predictions)\n",
    "print(mse)"
   ]
  },
  {
   "cell_type": "code",
   "execution_count": 45,
   "metadata": {},
   "outputs": [],
   "source": [
    "# convert the output to a dollar value with two decimal places\n",
    "def convert_to_dollars(predictions):\n",
    "    return predictions.round(2)"
   ]
  },
  {
   "cell_type": "code",
   "execution_count": 46,
   "metadata": {},
   "outputs": [],
   "source": [
    "predictions_dollars = convert_to_dollars(df_predictions)"
   ]
  },
  {
   "cell_type": "code",
   "execution_count": 47,
   "metadata": {},
   "outputs": [
    {
     "name": "stdout",
     "output_type": "stream",
     "text": [
      "0        574,269.53\n",
      "1        288,406.78\n",
      "2        557,694.03\n",
      "3        569,419.35\n",
      "4        330,143.31\n",
      "           ...     \n",
      "823      543,093.67\n",
      "824      543,093.67\n",
      "825      301,571.00\n",
      "826      902,995.96\n",
      "827    1,422,765.82\n",
      "Name: 0, Length: 828, dtype: object\n"
     ]
    }
   ],
   "source": [
    "print(predictions_dollars)"
   ]
  },
  {
   "cell_type": "code",
   "execution_count": 48,
   "metadata": {},
   "outputs": [
    {
     "name": "stdout",
     "output_type": "stream",
     "text": [
      "Mean Squared Error: 83297328002.39993\n"
     ]
    }
   ],
   "source": [
    "# Evaluate the model\n",
    "mse = mean_squared_error(y_test, predictions)\n",
    "print(\"Mean Squared Error:\", mse)"
   ]
  },
  {
   "cell_type": "code",
   "execution_count": 49,
   "metadata": {},
   "outputs": [
    {
     "name": "stdout",
     "output_type": "stream",
     "text": [
      "Mean Squared Error in dollars: $83,297,328,002.40\n"
     ]
    }
   ],
   "source": [
    "def convert_to_dollars(amount):\n",
    "    return \"${:,.2f}\".format(amount)\n",
    "\n",
    "# MSE value\n",
    "mse_value = 83297328002.39993\n",
    "\n",
    "# Convert MSE to a dollar format\n",
    "mse_dollars = convert_to_dollars(mse_value)\n",
    "\n",
    "print(f\"Mean Squared Error in dollars: {mse_dollars}\")"
   ]
  },
  {
   "cell_type": "code",
   "execution_count": 50,
   "metadata": {},
   "outputs": [],
   "source": [
    "# function to calculate the root mean squared error\n",
    "def calculate_rmse(y_true, y_pred):\n",
    "    return np.sqrt(mean_squared_error(y_true, y_pred))"
   ]
  },
  {
   "cell_type": "code",
   "execution_count": 51,
   "metadata": {},
   "outputs": [
    {
     "name": "stdout",
     "output_type": "stream",
     "text": [
      "Root Mean Squared Error: 288612.7647946292\n"
     ]
    }
   ],
   "source": [
    "#calculate the root mean squared error\n",
    "rmse = calculate_rmse(y_test, predictions)\n",
    "print(\"Root Mean Squared Error:\", rmse)"
   ]
  },
  {
   "cell_type": "code",
   "execution_count": 52,
   "metadata": {},
   "outputs": [],
   "source": [
    "# compare the predicted values with the actual values\n",
    "def compare_predictions(predictions, y_test):\n",
    "    return pd.DataFrame({'Actual': y_test, 'Predicted': predictions})"
   ]
  },
  {
   "cell_type": "code",
   "execution_count": 53,
   "metadata": {},
   "outputs": [],
   "source": [
    "table = compare_predictions(predictions_dollars[0], y_test)"
   ]
  },
  {
   "cell_type": "code",
   "execution_count": 54,
   "metadata": {},
   "outputs": [
    {
     "name": "stdout",
     "output_type": "stream",
     "text": [
      "         Actual   Predicted\n",
      "3487   600000.0  574,269.53\n",
      "1964   370000.0  574,269.53\n",
      "1582   471000.0  574,269.53\n",
      "296    240000.0  574,269.53\n",
      "149    413000.0  574,269.53\n",
      "...         ...         ...\n",
      "838    375000.0  574,269.53\n",
      "2466   754800.0  574,269.53\n",
      "3837   279000.0  574,269.53\n",
      "2409   540500.0  574,269.53\n",
      "1545  1415000.0  574,269.53\n",
      "\n",
      "[828 rows x 2 columns]\n"
     ]
    }
   ],
   "source": [
    "print(table)"
   ]
  },
  {
   "cell_type": "code",
   "execution_count": 55,
   "metadata": {},
   "outputs": [
    {
     "name": "stdout",
     "output_type": "stream",
     "text": [
      "3487    -25730.470967\n",
      "1964    -81593.216785\n",
      "1582     86694.027535\n",
      "296     329419.351270\n",
      "149     -82856.688514\n",
      "            ...      \n",
      "838     168093.667981\n",
      "2466   -211706.332019\n",
      "3837     22570.995446\n",
      "2409    362495.962056\n",
      "1545      7765.821056\n",
      "Name: price, Length: 828, dtype: float64\n"
     ]
    }
   ],
   "source": [
    "# calculate  the difference between the actual and predicted values in dollars\n",
    "def calculate_diff(predictions, y_test):\n",
    "    return predictions - y_test\n",
    "\n",
    "diff = calculate_diff(predictions, y_test)\n",
    "print(diff)"
   ]
  },
  {
   "cell_type": "code",
   "execution_count": 56,
   "metadata": {},
   "outputs": [
    {
     "name": "stdout",
     "output_type": "stream",
     "text": [
      "3487     -4.288412\n",
      "1964    -22.052221\n",
      "1582     18.406375\n",
      "296     137.258063\n",
      "149     -20.062152\n",
      "           ...    \n",
      "838      44.824978\n",
      "2466    -28.048004\n",
      "3837      8.089963\n",
      "2409     67.066783\n",
      "1545      0.548821\n",
      "Name: price, Length: 828, dtype: float64\n"
     ]
    }
   ],
   "source": [
    "# calculate the percentage difference between the actual and predicted values\n",
    "def calculate_percentage_diff(predictions, y_test):\n",
    "    return ((predictions - y_test) / y_test) * 100\n",
    "diff_percentage = calculate_percentage_diff(predictions, y_test)\n",
    "print(diff_percentage)"
   ]
  },
  {
   "cell_type": "code",
   "execution_count": 65,
   "metadata": {},
   "outputs": [
    {
     "name": "stdout",
     "output_type": "stream",
     "text": [
      "<class 'pandas.core.frame.DataFrame'>\n"
     ]
    }
   ],
   "source": [
    "# print data type of the predictions and y_test\n",
    "# print(type(predictions))    \n",
    "# print(type(y_test))\n",
    "# convert the predictions to a dataframe\n",
    "def predictions_to_df(predictions):\n",
    "    return pd.DataFrame(predictions)\n",
    "predictions = predictions_to_df(predictions)\n",
    "print(type(predictions))\n"
   ]
  }
 ],
 "metadata": {
  "kernelspec": {
   "display_name": "ml_env",
   "language": "python",
   "name": "python3"
  },
  "language_info": {
   "codemirror_mode": {
    "name": "ipython",
    "version": 3
   },
   "file_extension": ".py",
   "mimetype": "text/x-python",
   "name": "python",
   "nbconvert_exporter": "python",
   "pygments_lexer": "ipython3",
   "version": "3.10.16"
  }
 },
 "nbformat": 4,
 "nbformat_minor": 2
}
